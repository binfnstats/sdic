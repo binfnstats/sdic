{
 "cells": [
  {
   "cell_type": "code",
   "execution_count": 34,
   "metadata": {
    "ExecuteTime": {
     "end_time": "2021-03-12T20:59:35.572656Z",
     "start_time": "2021-03-12T20:59:35.551460Z"
    }
   },
   "outputs": [],
   "source": [
    "import sys\n",
    "import sdic\n",
    "import numpy as np\n",
    "import pandas as pd\n",
    "import seaborn as sns\n",
    "import matplotlib\n",
    "from keras.layers import Dense, Dropout, Flatten, GaussianNoise, ZeroPadding2D, Input, concatenate\n",
    "from keras.layers import Conv2D, MaxPooling2D\n",
    "from keras.models import Sequential, Model, load_model\n",
    "import matplotlib.ticker as ticker\n",
    "from matplotlib import pyplot as plt\n",
    "from sklearn.model_selection import train_test_split\n",
    "from pyDeepInsight import ImageTransformer, LogScaler\n",
    "from sklearn.model_selection import train_test_split\n",
    "import pandas as pd\n",
    "import numpy as np\n",
    "from matplotlib import pyplot as plt\n",
    "import seaborn as sns\n",
    "from tensorflow.python.keras.layers import Input, Dense\n",
    "from tensorflow.python.keras.models import Model\n",
    "from sklearn import metrics\n",
    "from sklearn.metrics import balanced_accuracy_score\n",
    "from sklearn.metrics import classification_report\n",
    "from sklearn.metrics import confusion_matrix\n",
    "from sklearn.metrics import matthews_corrcoef\n",
    "from sklearn.impute import SimpleImputer\n",
    "from sklearn.preprocessing import StandardScaler\n",
    "from sklearn import preprocessing\n",
    "import os\n",
    "from sklearn.metrics import roc_auc_score\n",
    "import numpy as np\n",
    "from sklearn.utils.class_weight import compute_class_weight\n",
    "from sklearn.model_selection import cross_val_score\n",
    "from sklearn.model_selection import KFold\n",
    "from sklearn.preprocessing import LabelEncoder\n",
    "from sklearn.pipeline import Pipeline\n",
    "from pickle import load\n",
    "from keras.preprocessing.image import ImageDataGenerator"
   ]
  },
  {
   "cell_type": "code",
   "execution_count": 15,
   "metadata": {
    "ExecuteTime": {
     "end_time": "2021-03-12T20:52:54.878987Z",
     "start_time": "2021-03-12T20:52:54.785542Z"
    }
   },
   "outputs": [],
   "source": [
    "def myGlobal0_to_1_Normalization(x):\n",
    "    return (x - np.min(x)) / (np.max(x) - np.min(x))"
   ]
  },
  {
   "cell_type": "code",
   "execution_count": 16,
   "metadata": {
    "ExecuteTime": {
     "end_time": "2021-03-12T20:52:57.430073Z",
     "start_time": "2021-03-12T20:52:54.884612Z"
    }
   },
   "outputs": [],
   "source": [
    "X = pd.read_csv(\"/workspace/DeepImageAI/expression_binary_autosome.csv\")\n",
    "Y = pd.read_csv(\"/workspace/DeepImageAI/input_meta_filtered_binray.csv\")\n",
    "Y = np.asarray(Y[\"Activity\"])\n",
    "X = (X.iloc[:, 1:].values).T\n",
    "assert(X.shape[0] == Y.shape[0]) # Make sure we have the same number of samples"
   ]
  },
  {
   "cell_type": "code",
   "execution_count": null,
   "metadata": {},
   "outputs": [],
   "source": []
  },
  {
   "cell_type": "code",
   "execution_count": 17,
   "metadata": {
    "ExecuteTime": {
     "end_time": "2021-03-12T20:52:57.435935Z",
     "start_time": "2021-03-12T20:52:57.432512Z"
    }
   },
   "outputs": [
    {
     "name": "stdout",
     "output_type": "stream",
     "text": [
      "(550, 33153)\n",
      "(550,)\n"
     ]
    }
   ],
   "source": [
    "print(X.shape) # 550 samples and 33153 genes\n",
    "print(Y.shape)"
   ]
  },
  {
   "cell_type": "code",
   "execution_count": 18,
   "metadata": {
    "ExecuteTime": {
     "end_time": "2021-03-12T20:52:57.544320Z",
     "start_time": "2021-03-12T20:52:57.437374Z"
    }
   },
   "outputs": [],
   "source": [
    "P = 183\n",
    "P * P\n",
    "img_size = P\n",
    "img_rows = P\n",
    "img_cols = P"
   ]
  },
  {
   "cell_type": "code",
   "execution_count": 19,
   "metadata": {
    "ExecuteTime": {
     "end_time": "2021-03-12T20:52:57.908609Z",
     "start_time": "2021-03-12T20:52:57.547078Z"
    }
   },
   "outputs": [
    {
     "name": "stdout",
     "output_type": "stream",
     "text": [
      "(550, 183, 183)\n",
      "0.0\n",
      "1.0\n"
     ]
    }
   ],
   "source": [
    "X1 = myGlobal0_to_1_Normalization(X) # MODE_ASIS\n",
    "X1 = np.resize(X1, (550, P*P))\n",
    "X1 = X1.reshape((550, P, P))\n",
    "print(X1.shape) # Just like the code!\n",
    "print(np.min(X1))\n",
    "print(np.max(X1))"
   ]
  },
  {
   "cell_type": "code",
   "execution_count": 20,
   "metadata": {
    "ExecuteTime": {
     "end_time": "2021-03-12T20:52:58.345475Z",
     "start_time": "2021-03-12T20:52:57.910244Z"
    }
   },
   "outputs": [
    {
     "name": "stdout",
     "output_type": "stream",
     "text": [
      "(550, 183, 183)\n",
      "(550, 183, 183)\n",
      "True\n",
      "False\n"
     ]
    }
   ],
   "source": [
    "x_train = X\n",
    "x_train = np.resize(x_train, (550, P*P))\n",
    "x_train = x_train.reshape((550, P, P))\n",
    "\n",
    "x_train_new_rand = np.zeros((x_train.shape[0], img_size, img_size))\n",
    "#x_test_new_rand=np.zeros((x_test.shape[0],img_size,img_size))\n",
    "ind=list(range(0,img_size*img_size))\n",
    "np.random.seed(1234)\n",
    "np.random.shuffle(ind)\n",
    "cx=cy=0\n",
    "dir=1\n",
    "for i in range(0,img_size*img_size):\n",
    "    dy=ind[i]//img_size\n",
    "    dx=ind[i]%img_size\n",
    "    x_train_new_rand[:,cy,cx]=x_train[:,dy,dx] \n",
    "#    x_test_new_rand[:,cy,cx]=x_test[:,dy,dx] \n",
    "    if dir==1: cx+=1\n",
    "    else: cx-=1\n",
    "    if cx==img_size:\n",
    "        cy+=1\n",
    "        cx-=1\n",
    "        dir*=-1\n",
    "    elif cx==-1:\n",
    "        cy+=1\n",
    "        cx+=1\n",
    "        dir*=-1\n",
    "    x_train_new=x_train_new_rand\n",
    "    #x_test_new=x_test_new_rand\n",
    "    \n",
    "print(x_train.shape)\n",
    "print(x_train_new.shape)\n",
    "print(np.array_equal(x_train, x_train))\n",
    "print(np.array_equal(x_train, x_train_new))\n",
    "X2 = x_train_new # MODE_RAND"
   ]
  },
  {
   "cell_type": "code",
   "execution_count": 21,
   "metadata": {
    "ExecuteTime": {
     "end_time": "2021-03-12T20:55:11.457852Z",
     "start_time": "2021-03-12T20:53:00.566313Z"
    }
   },
   "outputs": [
    {
     "name": "stdout",
     "output_type": "stream",
     "text": [
      "(550, 33153)\n",
      "(550,)\n"
     ]
    }
   ],
   "source": [
    "print(X.shape)\n",
    "print(Y.shape)\n",
    "X = myGlobal0_to_1_Normalization(X)\n",
    "\n",
    "x_train = X\n",
    "x_train = np.resize(x_train, (550, P*P))\n",
    "x_train = x_train.reshape((550, P, P))\n",
    "\n",
    "vic = sdic.sdic(sdic.SDIC_TYPE_SDIC)\n",
    "vic.fit(x_train)\n",
    "x_train_new = vic.transform(x_train)\n",
    "X3 = x_train_new"
   ]
  },
  {
   "cell_type": "code",
   "execution_count": 22,
   "metadata": {
    "ExecuteTime": {
     "end_time": "2021-03-12T20:55:33.864462Z",
     "start_time": "2021-03-12T20:55:33.827085Z"
    }
   },
   "outputs": [
    {
     "name": "stdout",
     "output_type": "stream",
     "text": [
      "1.0\n"
     ]
    }
   ],
   "source": [
    "#\n",
    "# Let's just train on the SDIC method for now!\n",
    "#"
   ]
  },
  {
   "cell_type": "code",
   "execution_count": 24,
   "metadata": {
    "ExecuteTime": {
     "end_time": "2021-03-12T20:55:49.405297Z",
     "start_time": "2021-03-12T20:55:49.348389Z"
    }
   },
   "outputs": [
    {
     "name": "stdout",
     "output_type": "stream",
     "text": [
      "0.0\n",
      "1.0\n"
     ]
    }
   ],
   "source": [
    "x_train = X3\n",
    "print(np.min(x_train))\n",
    "print(np.max(x_train))\n",
    "#x_train = myGlobal0_to_1_Normalization(x_train)\n",
    "#print(np.min(x_train))\n",
    "#print(np.max(x_train))"
   ]
  },
  {
   "cell_type": "code",
   "execution_count": 25,
   "metadata": {
    "ExecuteTime": {
     "end_time": "2021-03-12T20:55:59.573709Z",
     "start_time": "2021-03-12T20:55:59.562939Z"
    }
   },
   "outputs": [
    {
     "name": "stdout",
     "output_type": "stream",
     "text": [
      "183\n",
      "(550, 184, 184)\n",
      "(184, 184, 1)\n"
     ]
    }
   ],
   "source": [
    "print(P)\n",
    "print(x_train.shape)\n",
    "x_train = x_train.reshape(x_train.shape[0], 184, 184, 1)\n",
    "#x_test = x_test.reshape(x_test.shape[0], img_rows, img_cols, 1)\n",
    "input_shape = (184, 184, x_train.shape[3])\n",
    "print(input_shape) # One channel!"
   ]
  },
  {
   "cell_type": "code",
   "execution_count": 26,
   "metadata": {
    "ExecuteTime": {
     "end_time": "2021-03-12T20:56:57.134091Z",
     "start_time": "2021-03-12T20:56:57.125969Z"
    }
   },
   "outputs": [
    {
     "name": "stdout",
     "output_type": "stream",
     "text": [
      "(550, 184, 184, 1)\n",
      "(550,)\n"
     ]
    }
   ],
   "source": [
    "y_train = Y\n",
    "print(x_train.shape)\n",
    "print(y_train.shape)"
   ]
  },
  {
   "cell_type": "code",
   "execution_count": 43,
   "metadata": {
    "ExecuteTime": {
     "end_time": "2021-03-12T21:01:58.125081Z",
     "start_time": "2021-03-12T21:01:58.096561Z"
    }
   },
   "outputs": [],
   "source": [
    "import keras\n",
    "import tensorflow as tf\n",
    "from tensorflow.keras.utils import plot_model\n",
    "#input_shape=np.shape(input_data_transformed)[1:4]\n",
    "\n",
    "def createModel():\n",
    "    input_img = Input(shape=input_shape)\n",
    "    x = tf.keras.layers.Conv2D(32, kernel_size=(3, 3), activation='relu')(input_img)\n",
    "    x = tf.keras.layers.MaxPooling2D(pool_size=(2, 2))(x) \n",
    "    x = tf.keras.layers.Dropout(0.5)(x)\n",
    "    x = tf.keras.layers.Conv2D(64, kernel_size=(3, 3), activation='relu')(x)    \n",
    "    x = tf.keras.layers.MaxPooling2D(pool_size=(2, 2))(x)    \n",
    "    x = tf.keras.layers.Dropout(0.5)(x)    \n",
    "    x = tf.keras.layers.Flatten()(x)\n",
    "    x = tf.keras.layers.Dense(256, activation='relu')(x)    \n",
    "    output = tf.keras.layers.Dense(1, activation='sigmoid', name='visualized_layer')(x)\n",
    "\n",
    "    def auc(y_true, y_pred):\n",
    "        return tf.py_function(roc_auc_score, (y_true, y_pred), tf.double)\n",
    "    \n",
    "    model = Model(inputs=input_img, outputs=output)\n",
    "    optimizer = tf.keras.optimizers.Adam()\n",
    "    model.compile(optimizer=optimizer, loss='binary_crossentropy', metrics=['binary_crossentropy'])    \n",
    "    return model\n",
    "\n",
    "def newModel():\n",
    "    model = Sequential()\n",
    "    ks=(3,3)\n",
    "    num_classes = 2\n",
    "    model.add(Conv2D(32, kernel_size=(ks), activation='relu',input_shape=input_shape))\n",
    "    model.add(Conv2D(64, ks, activation='relu'))\n",
    "    model.add(MaxPooling2D(pool_size=(2, 2)))\n",
    "    model.add(Dropout(0.25))\n",
    "    model.add(Flatten())\n",
    "    model.add(Dense(128, activation='relu'))\n",
    "    model.add(Dropout(0.5))\n",
    "    model.add(Dense(2, activation='softmax')) # Binary in NYG\n",
    "    model.compile(loss=keras.losses.categorical_crossentropy if num_classes>2 else keras.losses.categorical_crossentropy,\n",
    "                  optimizer=keras.optimizers.Adadelta(),\n",
    "                  metrics=['accuracy'])\n",
    "    return model"
   ]
  },
  {
   "cell_type": "code",
   "execution_count": 51,
   "metadata": {
    "ExecuteTime": {
     "end_time": "2021-03-12T21:03:18.783132Z",
     "start_time": "2021-03-12T21:03:18.635548Z"
    }
   },
   "outputs": [
    {
     "name": "stdout",
     "output_type": "stream",
     "text": [
      "Model: \"functional_1\"\n",
      "_________________________________________________________________\n",
      "Layer (type)                 Output Shape              Param #   \n",
      "=================================================================\n",
      "input_1 (InputLayer)         [(None, 184, 184, 1)]     0         \n",
      "_________________________________________________________________\n",
      "conv2d_12 (Conv2D)           (None, 182, 182, 32)      320       \n",
      "_________________________________________________________________\n",
      "max_pooling2d_6 (MaxPooling2 (None, 91, 91, 32)        0         \n",
      "_________________________________________________________________\n",
      "dropout_10 (Dropout)         (None, 91, 91, 32)        0         \n",
      "_________________________________________________________________\n",
      "conv2d_13 (Conv2D)           (None, 89, 89, 64)        18496     \n",
      "_________________________________________________________________\n",
      "max_pooling2d_7 (MaxPooling2 (None, 44, 44, 64)        0         \n",
      "_________________________________________________________________\n",
      "dropout_11 (Dropout)         (None, 44, 44, 64)        0         \n",
      "_________________________________________________________________\n",
      "flatten_5 (Flatten)          (None, 123904)            0         \n",
      "_________________________________________________________________\n",
      "dense_9 (Dense)              (None, 256)               31719680  \n",
      "_________________________________________________________________\n",
      "visualized_layer (Dense)     (None, 1)                 257       \n",
      "=================================================================\n",
      "Total params: 31,738,753\n",
      "Trainable params: 31,738,753\n",
      "Non-trainable params: 0\n",
      "_________________________________________________________________\n"
     ]
    }
   ],
   "source": [
    "model = createModel()\n",
    "model.summary()"
   ]
  },
  {
   "cell_type": "code",
   "execution_count": 70,
   "metadata": {
    "ExecuteTime": {
     "end_time": "2021-03-12T22:09:03.850968Z",
     "start_time": "2021-03-12T22:09:03.842623Z"
    }
   },
   "outputs": [],
   "source": [
    "datagen = ImageDataGenerator()\n",
    "X = x_train\n",
    "Y = y_train\n",
    "del x_train\n",
    "del y_train"
   ]
  },
  {
   "cell_type": "code",
   "execution_count": 71,
   "metadata": {
    "ExecuteTime": {
     "end_time": "2021-03-12T22:09:45.253779Z",
     "start_time": "2021-03-12T22:09:45.151331Z"
    }
   },
   "outputs": [],
   "source": [
    "X_train, X_test, Y_train, Y_test = train_test_split(X, Y, stratify=Y, test_size=0.25, shuffle=True)"
   ]
  },
  {
   "cell_type": "code",
   "execution_count": 83,
   "metadata": {
    "ExecuteTime": {
     "end_time": "2021-03-12T22:13:45.538879Z",
     "start_time": "2021-03-12T22:13:45.482197Z"
    }
   },
   "outputs": [],
   "source": [
    "train_iterator = datagen.flow(X_train, Y_train, batch_size=32, seed=17, shuffle=False)\n",
    "test_iterator  = datagen.flow(X_test,  Y_test,  batch_size=32, seed=17, shuffle=False)"
   ]
  },
  {
   "cell_type": "code",
   "execution_count": 84,
   "metadata": {
    "ExecuteTime": {
     "end_time": "2021-03-12T22:13:45.898016Z",
     "start_time": "2021-03-12T22:13:45.882248Z"
    }
   },
   "outputs": [
    {
     "name": "stdout",
     "output_type": "stream",
     "text": [
      "{0: 4.5777777777777775, 1: 0.5613079019073569}\n",
      "(412,)\n"
     ]
    }
   ],
   "source": [
    "from sklearn.utils import class_weight\n",
    "class_weights = class_weight.compute_class_weight('balanced',\n",
    "                                                 np.unique(Y_train),\n",
    "                                                 Y_train)\n",
    "d_class_weights = dict(enumerate(class_weights))\n",
    "print(d_class_weights)\n",
    "print(Y_train.shape)"
   ]
  },
  {
   "cell_type": "code",
   "execution_count": 85,
   "metadata": {
    "ExecuteTime": {
     "end_time": "2021-03-12T22:13:47.690325Z",
     "start_time": "2021-03-12T22:13:47.681103Z"
    }
   },
   "outputs": [],
   "source": [
    "checkpoint_path_incep = \"Binary_all_vs_control/cp_incep.ckpt\"\n",
    "checkpoint_dir_incep = os.path.dirname(checkpoint_path_incep)\n",
    "\n",
    "from tensorflow.python.keras.callbacks import ModelCheckpoint\n",
    "callbacks_list = [   \n",
    "    ModelCheckpoint(filepath=checkpoint_path_incep, monitor='val_loss', save_best_only=True, save_weights_only=True,verbose=1, mode='min')\n",
    "]"
   ]
  },
  {
   "cell_type": "code",
   "execution_count": 86,
   "metadata": {
    "ExecuteTime": {
     "end_time": "2021-03-12T22:13:49.011385Z",
     "start_time": "2021-03-12T22:13:49.003860Z"
    }
   },
   "outputs": [
    {
     "name": "stdout",
     "output_type": "stream",
     "text": [
      "(412, 184, 184, 1)\n",
      "(138, 184, 184, 1)\n"
     ]
    }
   ],
   "source": [
    "print(X_train.shape)\n",
    "print(X_test.shape)"
   ]
  },
  {
   "cell_type": "code",
   "execution_count": 87,
   "metadata": {
    "ExecuteTime": {
     "end_time": "2021-03-12T22:18:42.719707Z",
     "start_time": "2021-03-12T22:13:52.771217Z"
    }
   },
   "outputs": [
    {
     "name": "stdout",
     "output_type": "stream",
     "text": [
      "Epoch 1/50\n",
      "13/13 [==============================] - ETA: 0s - loss: 8.1939e-05 - binary_crossentropy: 8.1939e-05\n",
      "Epoch 00001: val_loss improved from inf to 0.00006, saving model to Binary_all_vs_control/cp_incep.ckpt\n",
      "13/13 [==============================] - 7s 509ms/step - loss: 8.1939e-05 - binary_crossentropy: 8.1939e-05 - val_loss: 5.7782e-05 - val_binary_crossentropy: 5.7782e-05\n",
      "Epoch 2/50\n",
      "13/13 [==============================] - ETA: 0s - loss: 5.3286e-05 - binary_crossentropy: 5.3286e-05\n",
      "Epoch 00002: val_loss improved from 0.00006 to 0.00005, saving model to Binary_all_vs_control/cp_incep.ckpt\n",
      "13/13 [==============================] - 7s 506ms/step - loss: 5.3286e-05 - binary_crossentropy: 5.3286e-05 - val_loss: 4.9562e-05 - val_binary_crossentropy: 4.9562e-05\n",
      "Epoch 3/50\n",
      "13/13 [==============================] - ETA: 0s - loss: 4.9823e-05 - binary_crossentropy: 4.9823e-05\n",
      "Epoch 00003: val_loss improved from 0.00005 to 0.00004, saving model to Binary_all_vs_control/cp_incep.ckpt\n",
      "13/13 [==============================] - 7s 511ms/step - loss: 4.9823e-05 - binary_crossentropy: 4.9823e-05 - val_loss: 4.3340e-05 - val_binary_crossentropy: 4.3340e-05\n",
      "Epoch 4/50\n",
      "13/13 [==============================] - ETA: 0s - loss: 6.8417e-05 - binary_crossentropy: 6.8417e-05\n",
      "Epoch 00004: val_loss improved from 0.00004 to 0.00004, saving model to Binary_all_vs_control/cp_incep.ckpt\n",
      "13/13 [==============================] - 7s 512ms/step - loss: 6.8417e-05 - binary_crossentropy: 6.8417e-05 - val_loss: 3.8751e-05 - val_binary_crossentropy: 3.8751e-05\n",
      "Epoch 5/50\n",
      "13/13 [==============================] - ETA: 0s - loss: 1.4837e-04 - binary_crossentropy: 1.4837e-04\n",
      "Epoch 00005: val_loss improved from 0.00004 to 0.00003, saving model to Binary_all_vs_control/cp_incep.ckpt\n",
      "13/13 [==============================] - 7s 507ms/step - loss: 1.4837e-04 - binary_crossentropy: 1.4837e-04 - val_loss: 3.2273e-05 - val_binary_crossentropy: 3.2273e-05\n",
      "Epoch 6/50\n",
      "13/13 [==============================] - ETA: 0s - loss: 1.0466e-04 - binary_crossentropy: 1.0466e-04\n",
      "Epoch 00006: val_loss improved from 0.00003 to 0.00003, saving model to Binary_all_vs_control/cp_incep.ckpt\n",
      "13/13 [==============================] - 7s 508ms/step - loss: 1.0466e-04 - binary_crossentropy: 1.0466e-04 - val_loss: 2.9930e-05 - val_binary_crossentropy: 2.9930e-05\n",
      "Epoch 7/50\n",
      "13/13 [==============================] - ETA: 0s - loss: 4.9013e-05 - binary_crossentropy: 4.9013e-05\n",
      "Epoch 00007: val_loss improved from 0.00003 to 0.00003, saving model to Binary_all_vs_control/cp_incep.ckpt\n",
      "13/13 [==============================] - 7s 506ms/step - loss: 4.9013e-05 - binary_crossentropy: 4.9013e-05 - val_loss: 2.7891e-05 - val_binary_crossentropy: 2.7891e-05\n",
      "Epoch 8/50\n",
      "13/13 [==============================] - ETA: 0s - loss: 3.3195e-05 - binary_crossentropy: 3.3195e-05\n",
      "Epoch 00008: val_loss improved from 0.00003 to 0.00003, saving model to Binary_all_vs_control/cp_incep.ckpt\n",
      "13/13 [==============================] - 7s 509ms/step - loss: 3.3195e-05 - binary_crossentropy: 3.3195e-05 - val_loss: 2.6390e-05 - val_binary_crossentropy: 2.6390e-05\n",
      "Epoch 9/50\n",
      "13/13 [==============================] - ETA: 0s - loss: 2.9237e-05 - binary_crossentropy: 2.9237e-05\n",
      "Epoch 00009: val_loss improved from 0.00003 to 0.00002, saving model to Binary_all_vs_control/cp_incep.ckpt\n",
      "13/13 [==============================] - 7s 504ms/step - loss: 2.9237e-05 - binary_crossentropy: 2.9237e-05 - val_loss: 2.4539e-05 - val_binary_crossentropy: 2.4539e-05\n",
      "Epoch 10/50\n",
      "13/13 [==============================] - ETA: 0s - loss: 3.7502e-05 - binary_crossentropy: 3.7502e-05\n",
      "Epoch 00010: val_loss improved from 0.00002 to 0.00002, saving model to Binary_all_vs_control/cp_incep.ckpt\n",
      "13/13 [==============================] - 7s 505ms/step - loss: 3.7502e-05 - binary_crossentropy: 3.7502e-05 - val_loss: 2.3283e-05 - val_binary_crossentropy: 2.3283e-05\n",
      "Epoch 11/50\n",
      "13/13 [==============================] - ETA: 0s - loss: 1.9933e-04 - binary_crossentropy: 1.9933e-04\n",
      "Epoch 00011: val_loss improved from 0.00002 to 0.00002, saving model to Binary_all_vs_control/cp_incep.ckpt\n",
      "13/13 [==============================] - 7s 507ms/step - loss: 1.9933e-04 - binary_crossentropy: 1.9933e-04 - val_loss: 1.5317e-05 - val_binary_crossentropy: 1.5317e-05\n",
      "Epoch 12/50\n",
      "13/13 [==============================] - ETA: 0s - loss: 1.5853e-05 - binary_crossentropy: 1.5853e-05\n",
      "Epoch 00012: val_loss improved from 0.00002 to 0.00001, saving model to Binary_all_vs_control/cp_incep.ckpt\n",
      "13/13 [==============================] - 7s 510ms/step - loss: 1.5853e-05 - binary_crossentropy: 1.5853e-05 - val_loss: 1.2573e-05 - val_binary_crossentropy: 1.2573e-05\n",
      "Epoch 13/50\n",
      "13/13 [==============================] - ETA: 0s - loss: 9.0461e-05 - binary_crossentropy: 9.0461e-05\n",
      "Epoch 00013: val_loss improved from 0.00001 to 0.00001, saving model to Binary_all_vs_control/cp_incep.ckpt\n",
      "13/13 [==============================] - 7s 507ms/step - loss: 9.0461e-05 - binary_crossentropy: 9.0461e-05 - val_loss: 1.1467e-05 - val_binary_crossentropy: 1.1467e-05\n",
      "Epoch 14/50\n",
      "13/13 [==============================] - ETA: 0s - loss: 9.5183e-06 - binary_crossentropy: 9.5183e-06\n",
      "Epoch 00014: val_loss improved from 0.00001 to 0.00001, saving model to Binary_all_vs_control/cp_incep.ckpt\n",
      "13/13 [==============================] - 7s 513ms/step - loss: 9.5183e-06 - binary_crossentropy: 9.5183e-06 - val_loss: 1.0328e-05 - val_binary_crossentropy: 1.0328e-05\n",
      "Epoch 15/50\n",
      "13/13 [==============================] - ETA: 0s - loss: 3.9809e-05 - binary_crossentropy: 3.9809e-05\n",
      "Epoch 00015: val_loss improved from 0.00001 to 0.00001, saving model to Binary_all_vs_control/cp_incep.ckpt\n",
      "13/13 [==============================] - 7s 509ms/step - loss: 3.9809e-05 - binary_crossentropy: 3.9809e-05 - val_loss: 1.0051e-05 - val_binary_crossentropy: 1.0051e-05\n",
      "Epoch 16/50\n",
      "13/13 [==============================] - ETA: 0s - loss: 1.9549e-05 - binary_crossentropy: 1.9549e-05\n",
      "Epoch 00016: val_loss improved from 0.00001 to 0.00001, saving model to Binary_all_vs_control/cp_incep.ckpt\n",
      "13/13 [==============================] - 7s 510ms/step - loss: 1.9549e-05 - binary_crossentropy: 1.9549e-05 - val_loss: 9.7642e-06 - val_binary_crossentropy: 9.7642e-06\n",
      "Epoch 17/50\n",
      "13/13 [==============================] - ETA: 0s - loss: 1.4756e-05 - binary_crossentropy: 1.4756e-05\n",
      "Epoch 00017: val_loss improved from 0.00001 to 0.00001, saving model to Binary_all_vs_control/cp_incep.ckpt\n",
      "13/13 [==============================] - 7s 512ms/step - loss: 1.4756e-05 - binary_crossentropy: 1.4756e-05 - val_loss: 9.4317e-06 - val_binary_crossentropy: 9.4317e-06\n",
      "Epoch 18/50\n",
      "13/13 [==============================] - ETA: 0s - loss: 8.3584e-06 - binary_crossentropy: 8.3584e-06\n",
      "Epoch 00018: val_loss improved from 0.00001 to 0.00001, saving model to Binary_all_vs_control/cp_incep.ckpt\n",
      "13/13 [==============================] - 7s 513ms/step - loss: 8.3584e-06 - binary_crossentropy: 8.3584e-06 - val_loss: 9.1135e-06 - val_binary_crossentropy: 9.1135e-06\n",
      "Epoch 19/50\n",
      "13/13 [==============================] - ETA: 0s - loss: 9.2836e-06 - binary_crossentropy: 9.2836e-06\n",
      "Epoch 00019: val_loss improved from 0.00001 to 0.00001, saving model to Binary_all_vs_control/cp_incep.ckpt\n",
      "13/13 [==============================] - 7s 508ms/step - loss: 9.2836e-06 - binary_crossentropy: 9.2836e-06 - val_loss: 8.9300e-06 - val_binary_crossentropy: 8.9300e-06\n",
      "Epoch 20/50\n",
      "13/13 [==============================] - ETA: 0s - loss: 2.4942e-05 - binary_crossentropy: 2.4942e-05\n",
      "Epoch 00020: val_loss improved from 0.00001 to 0.00001, saving model to Binary_all_vs_control/cp_incep.ckpt\n",
      "13/13 [==============================] - 7s 502ms/step - loss: 2.4942e-05 - binary_crossentropy: 2.4942e-05 - val_loss: 8.7441e-06 - val_binary_crossentropy: 8.7441e-06\n",
      "Epoch 21/50\n",
      "13/13 [==============================] - ETA: 0s - loss: 1.0526e-05 - binary_crossentropy: 1.0526e-05\n",
      "Epoch 00021: val_loss improved from 0.00001 to 0.00001, saving model to Binary_all_vs_control/cp_incep.ckpt\n",
      "13/13 [==============================] - 7s 523ms/step - loss: 1.0526e-05 - binary_crossentropy: 1.0526e-05 - val_loss: 8.4386e-06 - val_binary_crossentropy: 8.4386e-06\n"
     ]
    },
    {
     "name": "stdout",
     "output_type": "stream",
     "text": [
      "Epoch 22/50\n",
      "13/13 [==============================] - ETA: 0s - loss: 2.0580e-05 - binary_crossentropy: 2.0580e-05\n",
      "Epoch 00022: val_loss improved from 0.00001 to 0.00001, saving model to Binary_all_vs_control/cp_incep.ckpt\n",
      "13/13 [==============================] - 7s 508ms/step - loss: 2.0580e-05 - binary_crossentropy: 2.0580e-05 - val_loss: 8.2178e-06 - val_binary_crossentropy: 8.2178e-06\n",
      "Epoch 23/50\n",
      "13/13 [==============================] - ETA: 0s - loss: 0.0111 - binary_crossentropy: 0.0111\n",
      "Epoch 00023: val_loss did not improve from 0.00001\n",
      "13/13 [==============================] - 5s 349ms/step - loss: 0.0111 - binary_crossentropy: 0.0111 - val_loss: 5.6719e-04 - val_binary_crossentropy: 5.6719e-04\n",
      "Epoch 24/50\n",
      "13/13 [==============================] - ETA: 0s - loss: 9.8215e-04 - binary_crossentropy: 9.8215e-04\n",
      "Epoch 00024: val_loss did not improve from 0.00001\n",
      "13/13 [==============================] - 5s 350ms/step - loss: 9.8215e-04 - binary_crossentropy: 9.8215e-04 - val_loss: 8.1053e-04 - val_binary_crossentropy: 8.1053e-04\n",
      "Epoch 25/50\n",
      "13/13 [==============================] - ETA: 0s - loss: 0.0010 - binary_crossentropy: 0.0010\n",
      "Epoch 00025: val_loss did not improve from 0.00001\n",
      "13/13 [==============================] - 5s 351ms/step - loss: 0.0010 - binary_crossentropy: 0.0010 - val_loss: 2.9317e-04 - val_binary_crossentropy: 2.9317e-04\n",
      "Epoch 26/50\n",
      "13/13 [==============================] - ETA: 0s - loss: 0.0128 - binary_crossentropy: 0.0128\n",
      "Epoch 00026: val_loss did not improve from 0.00001\n",
      "13/13 [==============================] - 5s 350ms/step - loss: 0.0128 - binary_crossentropy: 0.0128 - val_loss: 0.0014 - val_binary_crossentropy: 0.0014\n",
      "Epoch 27/50\n",
      "13/13 [==============================] - ETA: 0s - loss: 7.4089e-04 - binary_crossentropy: 7.4089e-04\n",
      "Epoch 00027: val_loss did not improve from 0.00001\n",
      "13/13 [==============================] - 5s 349ms/step - loss: 7.4089e-04 - binary_crossentropy: 7.4089e-04 - val_loss: 3.3210e-04 - val_binary_crossentropy: 3.3210e-04\n",
      "Epoch 28/50\n",
      "13/13 [==============================] - ETA: 0s - loss: 4.8535e-04 - binary_crossentropy: 4.8535e-04\n",
      "Epoch 00028: val_loss did not improve from 0.00001\n",
      "13/13 [==============================] - 5s 351ms/step - loss: 4.8535e-04 - binary_crossentropy: 4.8535e-04 - val_loss: 1.3949e-04 - val_binary_crossentropy: 1.3949e-04\n",
      "Epoch 29/50\n",
      "13/13 [==============================] - ETA: 0s - loss: 1.2497e-04 - binary_crossentropy: 1.2497e-04\n",
      "Epoch 00029: val_loss did not improve from 0.00001\n",
      "13/13 [==============================] - 5s 350ms/step - loss: 1.2497e-04 - binary_crossentropy: 1.2497e-04 - val_loss: 1.3228e-04 - val_binary_crossentropy: 1.3228e-04\n",
      "Epoch 30/50\n",
      "13/13 [==============================] - ETA: 0s - loss: 7.6247e-05 - binary_crossentropy: 7.6247e-05\n",
      "Epoch 00030: val_loss did not improve from 0.00001\n",
      "13/13 [==============================] - 5s 348ms/step - loss: 7.6247e-05 - binary_crossentropy: 7.6247e-05 - val_loss: 6.7187e-05 - val_binary_crossentropy: 6.7187e-05\n",
      "Epoch 31/50\n",
      "13/13 [==============================] - ETA: 0s - loss: 3.9010e-05 - binary_crossentropy: 3.9010e-05\n",
      "Epoch 00031: val_loss did not improve from 0.00001\n",
      "13/13 [==============================] - 5s 352ms/step - loss: 3.9010e-05 - binary_crossentropy: 3.9010e-05 - val_loss: 4.8227e-05 - val_binary_crossentropy: 4.8227e-05\n",
      "Epoch 32/50\n",
      "13/13 [==============================] - ETA: 0s - loss: 1.9376e-05 - binary_crossentropy: 1.9376e-05\n",
      "Epoch 00032: val_loss did not improve from 0.00001\n",
      "13/13 [==============================] - 4s 345ms/step - loss: 1.9376e-05 - binary_crossentropy: 1.9376e-05 - val_loss: 4.0700e-05 - val_binary_crossentropy: 4.0700e-05\n",
      "Epoch 33/50\n",
      "13/13 [==============================] - ETA: 0s - loss: 2.4234e-05 - binary_crossentropy: 2.4234e-05\n",
      "Epoch 00033: val_loss did not improve from 0.00001\n",
      "13/13 [==============================] - 5s 350ms/step - loss: 2.4234e-05 - binary_crossentropy: 2.4234e-05 - val_loss: 3.6776e-05 - val_binary_crossentropy: 3.6776e-05\n",
      "Epoch 34/50\n",
      "13/13 [==============================] - ETA: 0s - loss: 5.4339e-05 - binary_crossentropy: 5.4339e-05\n",
      "Epoch 00034: val_loss did not improve from 0.00001\n",
      "13/13 [==============================] - 5s 352ms/step - loss: 5.4339e-05 - binary_crossentropy: 5.4339e-05 - val_loss: 3.2045e-05 - val_binary_crossentropy: 3.2045e-05\n",
      "Epoch 35/50\n",
      "13/13 [==============================] - ETA: 0s - loss: 1.1917e-05 - binary_crossentropy: 1.1917e-05\n",
      "Epoch 00035: val_loss did not improve from 0.00001\n",
      "13/13 [==============================] - 5s 348ms/step - loss: 1.1917e-05 - binary_crossentropy: 1.1917e-05 - val_loss: 2.9372e-05 - val_binary_crossentropy: 2.9372e-05\n",
      "Epoch 36/50\n",
      "13/13 [==============================] - ETA: 0s - loss: 1.1483e-05 - binary_crossentropy: 1.1483e-05\n",
      "Epoch 00036: val_loss did not improve from 0.00001\n",
      "13/13 [==============================] - 5s 350ms/step - loss: 1.1483e-05 - binary_crossentropy: 1.1483e-05 - val_loss: 2.6492e-05 - val_binary_crossentropy: 2.6492e-05\n",
      "Epoch 37/50\n",
      "13/13 [==============================] - ETA: 0s - loss: 3.3453e-05 - binary_crossentropy: 3.3453e-05\n",
      "Epoch 00037: val_loss did not improve from 0.00001\n",
      "13/13 [==============================] - 5s 350ms/step - loss: 3.3453e-05 - binary_crossentropy: 3.3453e-05 - val_loss: 2.4463e-05 - val_binary_crossentropy: 2.4463e-05\n",
      "Epoch 38/50\n",
      "13/13 [==============================] - ETA: 0s - loss: 1.2078e-05 - binary_crossentropy: 1.2078e-05\n",
      "Epoch 00038: val_loss did not improve from 0.00001\n",
      "13/13 [==============================] - 5s 349ms/step - loss: 1.2078e-05 - binary_crossentropy: 1.2078e-05 - val_loss: 2.3110e-05 - val_binary_crossentropy: 2.3110e-05\n",
      "Epoch 39/50\n",
      "13/13 [==============================] - ETA: 0s - loss: 1.1156e-05 - binary_crossentropy: 1.1156e-05\n",
      "Epoch 00039: val_loss did not improve from 0.00001\n",
      "13/13 [==============================] - 5s 350ms/step - loss: 1.1156e-05 - binary_crossentropy: 1.1156e-05 - val_loss: 2.1134e-05 - val_binary_crossentropy: 2.1134e-05\n",
      "Epoch 40/50\n",
      "13/13 [==============================] - ETA: 0s - loss: 9.2181e-06 - binary_crossentropy: 9.2181e-06\n",
      "Epoch 00040: val_loss did not improve from 0.00001\n",
      "13/13 [==============================] - 5s 349ms/step - loss: 9.2181e-06 - binary_crossentropy: 9.2181e-06 - val_loss: 2.1228e-05 - val_binary_crossentropy: 2.1228e-05\n",
      "Epoch 41/50\n",
      "13/13 [==============================] - ETA: 0s - loss: 9.4313e-06 - binary_crossentropy: 9.4313e-06\n",
      "Epoch 00041: val_loss did not improve from 0.00001\n",
      "13/13 [==============================] - 5s 351ms/step - loss: 9.4313e-06 - binary_crossentropy: 9.4313e-06 - val_loss: 1.9643e-05 - val_binary_crossentropy: 1.9643e-05\n",
      "Epoch 42/50\n",
      "13/13 [==============================] - ETA: 0s - loss: 7.6930e-06 - binary_crossentropy: 7.6930e-06\n",
      "Epoch 00042: val_loss did not improve from 0.00001\n",
      "13/13 [==============================] - 5s 348ms/step - loss: 7.6930e-06 - binary_crossentropy: 7.6930e-06 - val_loss: 1.7970e-05 - val_binary_crossentropy: 1.7970e-05\n",
      "Epoch 43/50\n",
      "13/13 [==============================] - ETA: 0s - loss: 1.4991e-05 - binary_crossentropy: 1.4991e-05\n",
      "Epoch 00043: val_loss did not improve from 0.00001\n",
      "13/13 [==============================] - 4s 346ms/step - loss: 1.4991e-05 - binary_crossentropy: 1.4991e-05 - val_loss: 1.7018e-05 - val_binary_crossentropy: 1.7018e-05\n",
      "Epoch 44/50\n",
      "13/13 [==============================] - ETA: 0s - loss: 1.8318e-05 - binary_crossentropy: 1.8318e-05\n",
      "Epoch 00044: val_loss did not improve from 0.00001\n",
      "13/13 [==============================] - 5s 348ms/step - loss: 1.8318e-05 - binary_crossentropy: 1.8318e-05 - val_loss: 1.8471e-05 - val_binary_crossentropy: 1.8471e-05\n",
      "Epoch 45/50\n",
      "13/13 [==============================] - ETA: 0s - loss: 5.7304e-06 - binary_crossentropy: 5.7304e-06\n",
      "Epoch 00045: val_loss did not improve from 0.00001\n",
      "13/13 [==============================] - 5s 349ms/step - loss: 5.7304e-06 - binary_crossentropy: 5.7304e-06 - val_loss: 1.8030e-05 - val_binary_crossentropy: 1.8030e-05\n",
      "Epoch 46/50\n",
      "13/13 [==============================] - ETA: 0s - loss: 1.3253e-05 - binary_crossentropy: 1.3253e-05\n",
      "Epoch 00046: val_loss did not improve from 0.00001\n",
      "13/13 [==============================] - 5s 353ms/step - loss: 1.3253e-05 - binary_crossentropy: 1.3253e-05 - val_loss: 1.7132e-05 - val_binary_crossentropy: 1.7132e-05\n"
     ]
    },
    {
     "name": "stdout",
     "output_type": "stream",
     "text": [
      "Epoch 47/50\n",
      "13/13 [==============================] - ETA: 0s - loss: 1.3345e-05 - binary_crossentropy: 1.3345e-05\n",
      "Epoch 00047: val_loss did not improve from 0.00001\n",
      "13/13 [==============================] - 5s 351ms/step - loss: 1.3345e-05 - binary_crossentropy: 1.3345e-05 - val_loss: 1.6828e-05 - val_binary_crossentropy: 1.6828e-05\n",
      "Epoch 48/50\n",
      "13/13 [==============================] - ETA: 0s - loss: 8.3484e-06 - binary_crossentropy: 8.3484e-06\n",
      "Epoch 00048: val_loss did not improve from 0.00001\n",
      "13/13 [==============================] - 5s 354ms/step - loss: 8.3484e-06 - binary_crossentropy: 8.3484e-06 - val_loss: 1.5272e-05 - val_binary_crossentropy: 1.5272e-05\n",
      "Epoch 49/50\n",
      "13/13 [==============================] - ETA: 0s - loss: 9.6057e-06 - binary_crossentropy: 9.6057e-06\n",
      "Epoch 00049: val_loss did not improve from 0.00001\n",
      "13/13 [==============================] - 5s 354ms/step - loss: 9.6057e-06 - binary_crossentropy: 9.6057e-06 - val_loss: 1.4645e-05 - val_binary_crossentropy: 1.4645e-05\n",
      "Epoch 50/50\n",
      "13/13 [==============================] - ETA: 0s - loss: 7.3437e-06 - binary_crossentropy: 7.3437e-06\n",
      "Epoch 00050: val_loss did not improve from 0.00001\n",
      "13/13 [==============================] - 5s 352ms/step - loss: 7.3437e-06 - binary_crossentropy: 7.3437e-06 - val_loss: 1.4037e-05 - val_binary_crossentropy: 1.4037e-05\n"
     ]
    }
   ],
   "source": [
    "with tf.device('/gpu:0'):\n",
    "    history = model.fit_generator(train_iterator,                           \n",
    "                                  epochs=50,\n",
    "                                  validation_data=test_iterator,\n",
    "                                  #class_weight=d_class_weights,\n",
    "                                  callbacks=callbacks_list)"
   ]
  },
  {
   "cell_type": "code",
   "execution_count": 88,
   "metadata": {
    "ExecuteTime": {
     "end_time": "2021-03-12T22:22:01.680196Z",
     "start_time": "2021-03-12T22:22:01.673107Z"
    }
   },
   "outputs": [
    {
     "name": "stdout",
     "output_type": "stream",
     "text": [
      "Completed!\n"
     ]
    }
   ],
   "source": [
    "print(\"Completed!\")"
   ]
  },
  {
   "cell_type": "code",
   "execution_count": 89,
   "metadata": {
    "ExecuteTime": {
     "end_time": "2021-03-12T22:22:08.274376Z",
     "start_time": "2021-03-12T22:22:08.147155Z"
    }
   },
   "outputs": [],
   "source": [
    "model_incep_loaded = createModel()"
   ]
  },
  {
   "cell_type": "code",
   "execution_count": 90,
   "metadata": {
    "ExecuteTime": {
     "end_time": "2021-03-12T22:22:09.125674Z",
     "start_time": "2021-03-12T22:22:08.721585Z"
    }
   },
   "outputs": [
    {
     "data": {
      "text/plain": [
       "<tensorflow.python.training.tracking.util.CheckpointLoadStatus at 0x7f3fcdc605b0>"
      ]
     },
     "execution_count": 90,
     "metadata": {},
     "output_type": "execute_result"
    }
   ],
   "source": [
    "model_incep_loaded.load_weights(checkpoint_path_incep)"
   ]
  },
  {
   "cell_type": "code",
   "execution_count": 91,
   "metadata": {
    "ExecuteTime": {
     "end_time": "2021-03-12T22:22:10.880529Z",
     "start_time": "2021-03-12T22:22:10.137836Z"
    }
   },
   "outputs": [],
   "source": [
    "pred_train_inception_load = model_incep_loaded.predict_generator(train_iterator, steps=len(train_iterator), verbose=0)"
   ]
  },
  {
   "cell_type": "code",
   "execution_count": 93,
   "metadata": {
    "ExecuteTime": {
     "end_time": "2021-03-12T22:22:19.620643Z",
     "start_time": "2021-03-12T22:22:19.584896Z"
    }
   },
   "outputs": [
    {
     "name": "stdout",
     "output_type": "stream",
     "text": [
      "auc_train_external_stack_pos: 1.0\n",
      "specificity_train_external_stack_pos: 1.0\n",
      "sensitivity_train_external_stack_pos: 1.0\n",
      "NPV_train_external_stack_pos: 1.0\n",
      "PPV_train_external_stack_pos: 1.0\n",
      "Accuracy_train_external_stack_pos: 1.0\n",
      "MCC_train_external_stack_pos: 1.0\n",
      "F1 SCORE train= 1.0\n",
      "              precision    recall  f1-score   support\n",
      "\n",
      "           0       1.00      1.00      1.00        45\n",
      "           1       1.00      1.00      1.00       367\n",
      "\n",
      "    accuracy                           1.00       412\n",
      "   macro avg       1.00      1.00      1.00       412\n",
      "weighted avg       1.00      1.00      1.00       412\n",
      "\n"
     ]
    }
   ],
   "source": [
    "auc_train_external_stack_pos = roc_auc_score(Y_train, pred_train_inception_load)\n",
    "print(\"auc_train_external_stack_pos: \" + str(auc_train_external_stack_pos))\n",
    "pred_train_external_stack_pos = np.where(pred_train_inception_load > 0.5, 1, 0)\n",
    "tn, fp, fn, tp = confusion_matrix(Y_train, pred_train_external_stack_pos).ravel()\n",
    "specificity_train_external_stack_pos = tn / (tn + fp)\n",
    "sensitivity_train_external_stack_pos = tp / (tp + fn)\n",
    "NPV_train_external_stack_pos = tn / (tn + fn)\n",
    "PPV_train_external_stack_pos = tp / (tp + fp)\n",
    "Accuracy_train_external_stack_pos = balanced_accuracy_score(Y_train, pred_train_external_stack_pos)\n",
    "MCC_train_external_stack_pos = matthews_corrcoef(Y_train, pred_train_external_stack_pos)\n",
    "print(\"specificity_train_external_stack_pos: \" + str(specificity_train_external_stack_pos))\n",
    "print(\"sensitivity_train_external_stack_pos: \" + str(sensitivity_train_external_stack_pos))\n",
    "print(\"NPV_train_external_stack_pos: \" + str(NPV_train_external_stack_pos))\n",
    "print(\"PPV_train_external_stack_pos: \" + str(PPV_train_external_stack_pos))\n",
    "print(\"Accuracy_train_external_stack_pos: \" + str(Accuracy_train_external_stack_pos))\n",
    "print(\"MCC_train_external_stack_pos: \" + str(MCC_train_external_stack_pos))\n",
    "\n",
    "from sklearn.metrics import f1_score\n",
    "print(\"F1 SCORE train= \"+str(f1_score(Y_train, pred_train_external_stack_pos, average='macro')))\n",
    "print(classification_report(Y_train, pred_train_external_stack_pos))"
   ]
  },
  {
   "cell_type": "code",
   "execution_count": 95,
   "metadata": {
    "ExecuteTime": {
     "end_time": "2021-03-12T22:23:29.563172Z",
     "start_time": "2021-03-12T22:23:29.247276Z"
    }
   },
   "outputs": [
    {
     "name": "stdout",
     "output_type": "stream",
     "text": [
      "auc_test_external_stack_pos: 1.0\n",
      "specificity_test_external_stack_pos: 1.0\n",
      "sensitivity_test_external_stack_pos: 1.0\n",
      "NPV_test_external_stack_pos: 1.0\n",
      "PPV_test_external_stack_pos: 1.0\n",
      "Accuracy_test_external_stack_pos: 1.0\n",
      "MCC_test_external_stack_pos: 1.0\n",
      "F1 SCORE test = 1.0\n",
      "              precision    recall  f1-score   support\n",
      "\n",
      "           0       1.00      1.00      1.00        15\n",
      "           1       1.00      1.00      1.00       123\n",
      "\n",
      "    accuracy                           1.00       138\n",
      "   macro avg       1.00      1.00      1.00       138\n",
      "weighted avg       1.00      1.00      1.00       138\n",
      "\n"
     ]
    }
   ],
   "source": [
    "pred_test_inception_load = model_incep_loaded.predict_generator(test_iterator, steps=len(test_iterator), verbose=0)\n",
    "auc_test_external_stack_pos = roc_auc_score(Y_test, pred_test_inception_load)\n",
    "print(\"auc_test_external_stack_pos: \" + str(auc_test_external_stack_pos))\n",
    "pred_test_external_stack_pos = np.where(pred_test_inception_load > 0.5, 1, 0)\n",
    "tn, fp, fn, tp = confusion_matrix(Y_test, pred_test_external_stack_pos).ravel()\n",
    "specificity_test_external_stack_pos = tn / (tn + fp)\n",
    "sensitivity_test_external_stack_pos = tp / (tp + fn)\n",
    "NPV_test_external_stack_pos = tn / (tn + fn)\n",
    "PPV_test_external_stack_pos = tp / (tp + fp)\n",
    "Accuracy_test_external_stack_pos = balanced_accuracy_score(Y_test, pred_test_external_stack_pos)\n",
    "MCC_test_external_stack_pos = matthews_corrcoef(Y_test, pred_test_external_stack_pos)\n",
    "print(\"specificity_test_external_stack_pos: \" + str(specificity_test_external_stack_pos))\n",
    "print(\"sensitivity_test_external_stack_pos: \" + str(sensitivity_test_external_stack_pos))\n",
    "print(\"NPV_test_external_stack_pos: \" + str(NPV_test_external_stack_pos))\n",
    "print(\"PPV_test_external_stack_pos: \" + str(PPV_test_external_stack_pos))\n",
    "print(\"Accuracy_test_external_stack_pos: \" + str(Accuracy_test_external_stack_pos))\n",
    "print(\"MCC_test_external_stack_pos: \" + str(MCC_test_external_stack_pos))\n",
    "\n",
    "from sklearn.metrics import f1_score\n",
    "print(\"F1 SCORE test = \"+str(f1_score(Y_test, pred_test_external_stack_pos, average='macro')))\n",
    "print(classification_report(Y_test, pred_test_external_stack_pos))"
   ]
  },
  {
   "cell_type": "code",
   "execution_count": null,
   "metadata": {},
   "outputs": [],
   "source": []
  }
 ],
 "metadata": {
  "kernelspec": {
   "display_name": "Python 3",
   "language": "python",
   "name": "python3"
  },
  "language_info": {
   "codemirror_mode": {
    "name": "ipython",
    "version": 3
   },
   "file_extension": ".py",
   "mimetype": "text/x-python",
   "name": "python",
   "nbconvert_exporter": "python",
   "pygments_lexer": "ipython3",
   "version": "3.8.5"
  },
  "toc": {
   "base_numbering": 1,
   "nav_menu": {},
   "number_sections": false,
   "sideBar": true,
   "skip_h1_title": false,
   "title_cell": "Table of Contents",
   "title_sidebar": "Contents",
   "toc_cell": false,
   "toc_position": {},
   "toc_section_display": true,
   "toc_window_display": false
  }
 },
 "nbformat": 4,
 "nbformat_minor": 4
}
